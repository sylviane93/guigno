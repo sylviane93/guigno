{
  "metadata": {
    "kernelspec": {
      "name": "python",
      "display_name": "Python (Pyodide)",
      "language": "python"
    },
    "language_info": {
      "codemirror_mode": {
        "name": "python",
        "version": 3
      },
      "file_extension": ".py",
      "mimetype": "text/x-python",
      "name": "python",
      "nbconvert_exporter": "python",
      "pygments_lexer": "ipython3",
      "version": "3.8"
    }
  },
  "nbformat_minor": 4,
  "nbformat": 4,
  "cells": [
    {
      "cell_type": "markdown",
      "source": "Data Science Tools and Ecosystem",
      "metadata": {}
    },
    {
      "cell_type": "markdown",
      "source": "In this notebook, Data Science Tools and Ecosystem are summarized.",
      "metadata": {}
    },
    {
      "cell_type": "markdown",
      "source": "Some of the popular languages data scientists use are:\n1) Python\n2) Java\n3) R",
      "metadata": {}
    },
    {
      "cell_type": "markdown",
      "source": "Some of the commonly libaries used by Data Scientists are:\n1) SQL\n2) Panda\n3) NumPy",
      "metadata": {}
    },
    {
      "cell_type": "markdown",
      "source": "Below are few examples of evaluating expressions in Python",
      "metadata": {}
    },
    {
      "cell_type": "markdown",
      "source": "# This is a simple arithmetic expression to multiply then add integers.\n(3*4)+5\n17\n\n\n",
      "metadata": {}
    },
    {
      "cell_type": "markdown",
      "source": "# This will convert 200 minutes in hours by diving by 200.\n>>> x = \" a minutes\"\n>>> a = 200\n>>> hours = a/60\n>>> print(hours)\n3.3333333333333335",
      "metadata": {}
    },
    {
      "cell_type": "markdown",
      "source": "Author\nSylviane",
      "metadata": {}
    }
  ]
}